{
 "cells": [
  {
   "cell_type": "markdown",
   "metadata": {},
   "source": [
    "## Feminicídio\n",
    "\n",
    "> O objetivo deste estudo é avaliar a mortalidade feminina no estado do Rio Grande do Norte.\n",
    "> Desta forma será primeiramente avaliado os dados de mortalidade apenas para o sexo feminino, olhando no contexto geral. Em um segundo momento será selecionada apenas as causas em que envolvem agressão física ou por arma de fogo, que indiretamente apontam violência contra a mulher, uma das formas de tipificar feminicídio. Por fim, será avaliado todos os dados de mortalidade: geral, por agressão física e por arma de fogo; a fim de obtermos assim a evolução anual dos dados.\n",
    "> Para este estudo, iniciaremos apenas com os dados de 1996 até 2015, posteriormente adicionaremos os dados de 2016 e 2017 (prévio).\n",
    "\n",
    "> Não estipularemos indicadores neste momento, pois se trata do estudo inicial do caso. Contudo é desejado no final identificarmos a principal faixa etária, qual região do estado é mais violento com mulheres, qual município, qual a zona de moradia mais preponderante, etc."
   ]
  },
  {
   "cell_type": "code",
   "execution_count": 1,
   "metadata": {},
   "outputs": [],
   "source": [
    "library(stringr)"
   ]
  },
  {
   "cell_type": "code",
   "execution_count": 2,
   "metadata": {},
   "outputs": [
    {
     "name": "stderr",
     "output_type": "stream",
     "text": [
      "\n",
      "Attaching package: ‘dplyr’\n",
      "\n",
      "The following objects are masked from ‘package:stats’:\n",
      "\n",
      "    filter, lag\n",
      "\n",
      "The following objects are masked from ‘package:base’:\n",
      "\n",
      "    intersect, setdiff, setequal, union\n",
      "\n"
     ]
    }
   ],
   "source": [
    "library(dplyr)"
   ]
  },
  {
   "cell_type": "code",
   "execution_count": 3,
   "metadata": {},
   "outputs": [],
   "source": [
    "todos <- read.csv2(\"mortalidade_96-15.csv\", header=T, sep=\";\")"
   ]
  },
  {
   "cell_type": "code",
   "execution_count": null,
   "metadata": {},
   "outputs": [],
   "source": []
  },
  {
   "cell_type": "code",
   "execution_count": 4,
   "metadata": {},
   "outputs": [],
   "source": [
    "mulheres <- subset(todos, SEXO == 2)\n",
    "mulheres <- droplevels(mulheres)"
   ]
  },
  {
   "cell_type": "code",
   "execution_count": null,
   "metadata": {},
   "outputs": [],
   "source": []
  },
  {
   "cell_type": "code",
   "execution_count": 5,
   "metadata": {},
   "outputs": [
    {
     "name": "stdout",
     "output_type": "stream",
     "text": [
      "'data.frame':\t129299 obs. of  18 variables:\n",
      " $ DTOBITO   : int  30061996 11071996 28081996 13061996 14091996 28031996 15031996 29031996 19031996 9031996 ...\n",
      " $ IDADE     : int  459 439 446 414 487 488 445 477 478 484 ...\n",
      " $ SEXO      : int  2 2 2 2 2 2 2 2 2 2 ...\n",
      " $ RACACOR   : int  NA NA NA NA NA NA NA NA NA NA ...\n",
      " $ ESTCIV    : int  1 2 1 1 1 3 1 3 2 3 ...\n",
      " $ ESC       : Factor w/ 9 levels \"0\",\"1\",\"2\",\"3\",..: NA NA NA NA 7 NA 7 NA NA NA ...\n",
      " $ CODMUNRES : int  2408003 2401453 2408102 2403301 2408003 2404309 2408102 2401107 2408003 2408003 ...\n",
      " $ LOCOCOR   : int  1 3 1 1 1 1 1 3 1 3 ...\n",
      " $ CODMUNOCOR: int  2304400 2401453 2304400 2409407 2304400 2408003 2408102 2401107 2408003 2408003 ...\n",
      " $ GRAVIDEZ  : int  NA NA NA NA NA NA NA NA NA NA ...\n",
      " $ CAUSABAS  : Factor w/ 2730 levels \"A009\",\"A039\",..: 362 2211 22 1121 1036 2212 1004 699 708 2211 ...\n",
      " $ LINHAA    : Factor w/ 2017 levels \"*\",\"**J960\",\"**R092\",..: NA NA NA NA NA NA NA NA NA NA ...\n",
      " $ LINHAB    : Factor w/ 3011 levels \"*519\",\"*A049\",..: NA NA NA NA NA NA NA NA NA NA ...\n",
      " $ LINHAC    : Factor w/ 3011 levels \"*599\",\"*A040\",..: NA NA NA NA NA NA NA NA NA NA ...\n",
      " $ LINHAD    : Factor w/ 1998 levels \"*A039\",\"*A049\",..: NA NA NA NA NA NA NA NA NA NA ...\n",
      " $ LINHAII   : Factor w/ 6016 levels \"*A049*E110\",\"*A051\",..: NA NA NA NA NA NA NA NA NA NA ...\n",
      " $ CIRCOBITO : int  NA NA NA NA NA NA NA NA NA NA ...\n",
      " $ ACIDTRAB  : int  NA NA NA NA NA NA NA NA NA NA ...\n"
     ]
    }
   ],
   "source": [
    "str(mulheres)"
   ]
  },
  {
   "cell_type": "code",
   "execution_count": 6,
   "metadata": {},
   "outputs": [],
   "source": [
    "# write.csv2(mulheres, \"mulheres_rn_96-15.csv\", row.names=FALSE)"
   ]
  },
  {
   "cell_type": "code",
   "execution_count": 7,
   "metadata": {},
   "outputs": [],
   "source": [
    "mulheres$CODCID_CAUSABAS <- as.character(str_sub(mulheres$CAUSABAS, 1, 1))\n",
    "mulheres$CODCID_LINHAA <- str_sub(mulheres$LINHAA, 1, 1)\n",
    "mulheres$CODCID_LINHAB <- str_sub(mulheres$LINHAB, 1, 1)\n",
    "mulheres$CODCID_LINHAC <- str_sub(mulheres$LINHAC, 1, 1)\n",
    "mulheres$CODCID_LINHAD <- str_sub(mulheres$LINHAD, 1, 1)\n",
    "mulheres$CODCID_LINHAII <- str_sub(mulheres$LINHAII, 1, 1)"
   ]
  },
  {
   "cell_type": "code",
   "execution_count": 8,
   "metadata": {},
   "outputs": [],
   "source": [
    "mulheres <- droplevels(mulheres)"
   ]
  },
  {
   "cell_type": "code",
   "execution_count": 9,
   "metadata": {},
   "outputs": [
    {
     "name": "stdout",
     "output_type": "stream",
     "text": [
      "'data.frame':\t129299 obs. of  24 variables:\n",
      " $ DTOBITO        : int  30061996 11071996 28081996 13061996 14091996 28031996 15031996 29031996 19031996 9031996 ...\n",
      " $ IDADE          : int  459 439 446 414 487 488 445 477 478 484 ...\n",
      " $ SEXO           : int  2 2 2 2 2 2 2 2 2 2 ...\n",
      " $ RACACOR        : int  NA NA NA NA NA NA NA NA NA NA ...\n",
      " $ ESTCIV         : int  1 2 1 1 1 3 1 3 2 3 ...\n",
      " $ ESC            : Factor w/ 9 levels \"0\",\"1\",\"2\",\"3\",..: NA NA NA NA 7 NA 7 NA NA NA ...\n",
      " $ CODMUNRES      : int  2408003 2401453 2408102 2403301 2408003 2404309 2408102 2401107 2408003 2408003 ...\n",
      " $ LOCOCOR        : int  1 3 1 1 1 1 1 3 1 3 ...\n",
      " $ CODMUNOCOR     : int  2304400 2401453 2304400 2409407 2304400 2408003 2408102 2401107 2408003 2408003 ...\n",
      " $ GRAVIDEZ       : int  NA NA NA NA NA NA NA NA NA NA ...\n",
      " $ CAUSABAS       : Factor w/ 2730 levels \"A009\",\"A039\",..: 362 2211 22 1121 1036 2212 1004 699 708 2211 ...\n",
      " $ LINHAA         : Factor w/ 2017 levels \"*\",\"**J960\",\"**R092\",..: NA NA NA NA NA NA NA NA NA NA ...\n",
      " $ LINHAB         : Factor w/ 3011 levels \"*519\",\"*A049\",..: NA NA NA NA NA NA NA NA NA NA ...\n",
      " $ LINHAC         : Factor w/ 3011 levels \"*599\",\"*A040\",..: NA NA NA NA NA NA NA NA NA NA ...\n",
      " $ LINHAD         : Factor w/ 1998 levels \"*A039\",\"*A049\",..: NA NA NA NA NA NA NA NA NA NA ...\n",
      " $ LINHAII        : Factor w/ 6016 levels \"*A049*E110\",\"*A051\",..: NA NA NA NA NA NA NA NA NA NA ...\n",
      " $ CIRCOBITO      : int  NA NA NA NA NA NA NA NA NA NA ...\n",
      " $ ACIDTRAB       : int  NA NA NA NA NA NA NA NA NA NA ...\n",
      " $ CODCID_CAUSABAS: chr  \"C\" \"R\" \"A\" \"I\" ...\n",
      " $ CODCID_LINHAA  : chr  NA NA NA NA ...\n",
      " $ CODCID_LINHAB  : chr  NA NA NA NA ...\n",
      " $ CODCID_LINHAC  : chr  NA NA NA NA ...\n",
      " $ CODCID_LINHAD  : chr  NA NA NA NA ...\n",
      " $ CODCID_LINHAII : chr  NA NA NA NA ...\n"
     ]
    }
   ],
   "source": [
    "str(mulheres)"
   ]
  },
  {
   "cell_type": "code",
   "execution_count": 10,
   "metadata": {},
   "outputs": [],
   "source": [
    "# feminicidios <- subset(mulheres, select = c(CODCID_CAUSABAS,CODCID_LINHAA,CODCID_LINHAB,\n",
    "#                                         CODCID_LINHAC,CODCID_LINHAD,CODCID_LINHAII) %in% c(\"S\",\"T\"))"
   ]
  },
  {
   "cell_type": "code",
   "execution_count": 14,
   "metadata": {},
   "outputs": [],
   "source": [
    "feminicidios <- subset(mulheres, CODCID_CAUSABAS %in% c('S', 'T'))"
   ]
  },
  {
   "cell_type": "code",
   "execution_count": 12,
   "metadata": {},
   "outputs": [],
   "source": [
    "feminicidios <- filter(mulheres, startsWith(as.character(CAUSABAS), \"S\") | startsWith(as.character(CAUSABAS), \"T\"))"
   ]
  },
  {
   "cell_type": "code",
   "execution_count": 16,
   "metadata": {},
   "outputs": [
    {
     "name": "stderr",
     "output_type": "stream",
     "text": [
      "Warning message in cbind(parts$left, ellip_h, parts$right, deparse.level = 0L):\n",
      "“number of rows of result is not a multiple of vector length (arg 2)”Warning message in cbind(parts$left, ellip_h, parts$right, deparse.level = 0L):\n",
      "“number of rows of result is not a multiple of vector length (arg 2)”Warning message in cbind(parts$left, ellip_h, parts$right, deparse.level = 0L):\n",
      "“number of rows of result is not a multiple of vector length (arg 2)”Warning message in cbind(parts$left, ellip_h, parts$right, deparse.level = 0L):\n",
      "“number of rows of result is not a multiple of vector length (arg 2)”"
     ]
    },
    {
     "data": {
      "text/html": [
       "<table>\n",
       "<thead><tr><th scope=col>DTOBITO</th><th scope=col>IDADE</th><th scope=col>SEXO</th><th scope=col>RACACOR</th><th scope=col>ESTCIV</th><th scope=col>ESC</th><th scope=col>CODMUNRES</th><th scope=col>LOCOCOR</th><th scope=col>CODMUNOCOR</th><th scope=col>GRAVIDEZ</th><th scope=col>⋯</th><th scope=col>LINHAD</th><th scope=col>LINHAII</th><th scope=col>CIRCOBITO</th><th scope=col>ACIDTRAB</th><th scope=col>CODCID_CAUSABAS</th><th scope=col>CODCID_LINHAA</th><th scope=col>CODCID_LINHAB</th><th scope=col>CODCID_LINHAC</th><th scope=col>CODCID_LINHAD</th><th scope=col>CODCID_LINHAII</th></tr></thead>\n",
       "<tbody>\n",
       "</tbody>\n",
       "</table>\n"
      ],
      "text/latex": [
       "\\begin{tabular}{r|llllllllllllllllllllllll}\n",
       " DTOBITO & IDADE & SEXO & RACACOR & ESTCIV & ESC & CODMUNRES & LOCOCOR & CODMUNOCOR & GRAVIDEZ & ⋯ & LINHAD & LINHAII & CIRCOBITO & ACIDTRAB & CODCID\\_CAUSABAS & CODCID\\_LINHAA & CODCID\\_LINHAB & CODCID\\_LINHAC & CODCID\\_LINHAD & CODCID\\_LINHAII\\\\\n",
       "\\hline\n",
       "\\end{tabular}\n"
      ],
      "text/markdown": [
       "\n",
       "DTOBITO | IDADE | SEXO | RACACOR | ESTCIV | ESC | CODMUNRES | LOCOCOR | CODMUNOCOR | GRAVIDEZ | ⋯ | LINHAD | LINHAII | CIRCOBITO | ACIDTRAB | CODCID_CAUSABAS | CODCID_LINHAA | CODCID_LINHAB | CODCID_LINHAC | CODCID_LINHAD | CODCID_LINHAII | \n",
       "||\n",
       "\n",
       "\n"
      ],
      "text/plain": [
       "     DTOBITO IDADE SEXO RACACOR ESTCIV ESC CODMUNRES LOCOCOR CODMUNOCOR\n",
       "     GRAVIDEZ ⋯ LINHAD LINHAII CIRCOBITO ACIDTRAB CODCID_CAUSABAS CODCID_LINHAA\n",
       "     CODCID_LINHAB CODCID_LINHAC CODCID_LINHAD CODCID_LINHAII"
      ]
     },
     "metadata": {},
     "output_type": "display_data"
    }
   ],
   "source": [
    "head(feminicidios)"
   ]
  },
  {
   "cell_type": "code",
   "execution_count": null,
   "metadata": {},
   "outputs": [],
   "source": []
  }
 ],
 "metadata": {
  "kernelspec": {
   "display_name": "R",
   "language": "R",
   "name": "ir"
  },
  "language_info": {
   "codemirror_mode": "r",
   "file_extension": ".r",
   "mimetype": "text/x-r-source",
   "name": "R",
   "pygments_lexer": "r",
   "version": "3.4.2"
  }
 },
 "nbformat": 4,
 "nbformat_minor": 2
}
