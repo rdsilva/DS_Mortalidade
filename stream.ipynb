{
 "cells": [
  {
   "cell_type": "markdown",
   "metadata": {},
   "source": [
    "A ideia aqui é listar e abrir os arquivos diretamente da web"
   ]
  },
  {
   "cell_type": "code",
   "execution_count": 10,
   "metadata": {},
   "outputs": [
    {
     "name": "stderr",
     "output_type": "stream",
     "text": [
      "Updating HTML index of packages in '.Library'\n",
      "Making 'packages.html' ... done\n"
     ]
    }
   ],
   "source": [
    "install.packages(\"RCurl\") "
   ]
  },
  {
   "cell_type": "code",
   "execution_count": 11,
   "metadata": {},
   "outputs": [
    {
     "name": "stderr",
     "output_type": "stream",
     "text": [
      "Loading required package: bitops\n"
     ]
    }
   ],
   "source": [
    "library(\"RCurl\") "
   ]
  },
  {
   "cell_type": "code",
   "execution_count": 21,
   "metadata": {},
   "outputs": [
    {
     "name": "stderr",
     "output_type": "stream",
     "text": [
      "\n",
      "Attaching package: ‘dplyr’\n",
      "\n",
      "The following objects are masked from ‘package:stats’:\n",
      "\n",
      "    filter, lag\n",
      "\n",
      "The following objects are masked from ‘package:base’:\n",
      "\n",
      "    intersect, setdiff, setequal, union\n",
      "\n"
     ]
    }
   ],
   "source": [
    "library(dplyr)"
   ]
  },
  {
   "cell_type": "code",
   "execution_count": 2,
   "metadata": {},
   "outputs": [],
   "source": [
    "url <- \"ftp://ftp.datasus.gov.br/dissemin/publicos/SIM/CID10/DORES/\""
   ]
  },
  {
   "cell_type": "code",
   "execution_count": 13,
   "metadata": {},
   "outputs": [],
   "source": [
    "files <- getURL(url,verbose=TRUE,ftp.use.epsv=TRUE, dirlistonly = TRUE)"
   ]
  },
  {
   "cell_type": "code",
   "execution_count": 14,
   "metadata": {},
   "outputs": [
    {
     "name": "stdout",
     "output_type": "stream",
     "text": [
      " chr \"DOAC1996.dbc\\nDOAC1997.dbc\\nDOAC1998.dbc\\nDOAC1999.dbc\\nDOAC2000.dbc\\nDOAC2001.dbc\\nDOAC2002.dbc\\nDOAC2003.dbc\\\"| __truncated__\n"
     ]
    }
   ],
   "source": [
    "str(files)"
   ]
  },
  {
   "cell_type": "code",
   "execution_count": 17,
   "metadata": {},
   "outputs": [],
   "source": [
    "myFiles <- strsplit(files,'\\\\n')[[1]]"
   ]
  },
  {
   "cell_type": "code",
   "execution_count": 31,
   "metadata": {},
   "outputs": [],
   "source": [
    "dores <- as.data.frame(myFiles)"
   ]
  },
  {
   "cell_type": "code",
   "execution_count": 34,
   "metadata": {},
   "outputs": [
    {
     "name": "stdout",
     "output_type": "stream",
     "text": [
      "'data.frame':\t569 obs. of  1 variable:\n",
      " $ files: Factor w/ 569 levels \"DOAC1996.dbc\",..: 1 2 3 4 5 6 7 8 9 10 ...\n"
     ]
    }
   ],
   "source": [
    "str(dores)"
   ]
  },
  {
   "cell_type": "code",
   "execution_count": 33,
   "metadata": {},
   "outputs": [],
   "source": [
    "names(dores)[1] <- \"files\""
   ]
  },
  {
   "cell_type": "code",
   "execution_count": 36,
   "metadata": {},
   "outputs": [],
   "source": [
    "# filtering only DORN files\n",
    "\n",
    "dorn <- subset(dores, grepl(\"DORN\", files))"
   ]
  },
  {
   "cell_type": "code",
   "execution_count": 39,
   "metadata": {},
   "outputs": [
    {
     "data": {
      "text/html": [
       "<table>\n",
       "<thead><tr><th></th><th scope=col>files</th></tr></thead>\n",
       "<tbody>\n",
       "\t<tr><th scope=row>402</th><td>DORN1996.dbc</td></tr>\n",
       "\t<tr><th scope=row>403</th><td>DORN1997.dbc</td></tr>\n",
       "\t<tr><th scope=row>404</th><td>DORN1998.dbc</td></tr>\n",
       "\t<tr><th scope=row>405</th><td>DORN1999.dbc</td></tr>\n",
       "\t<tr><th scope=row>406</th><td>DORN2000.dbc</td></tr>\n",
       "\t<tr><th scope=row>407</th><td>DORN2001.dbc</td></tr>\n",
       "\t<tr><th scope=row>408</th><td>DORN2002.dbc</td></tr>\n",
       "\t<tr><th scope=row>409</th><td>DORN2003.dbc</td></tr>\n",
       "\t<tr><th scope=row>410</th><td>DORN2004.dbc</td></tr>\n",
       "\t<tr><th scope=row>411</th><td>DORN2005.dbc</td></tr>\n",
       "\t<tr><th scope=row>412</th><td>DORN2006.dbc</td></tr>\n",
       "\t<tr><th scope=row>413</th><td>DORN2007.DBC</td></tr>\n",
       "\t<tr><th scope=row>414</th><td>DORN2008.dbc</td></tr>\n",
       "\t<tr><th scope=row>415</th><td>DORN2009.dbc</td></tr>\n",
       "\t<tr><th scope=row>416</th><td>DORN2010.DBC</td></tr>\n",
       "\t<tr><th scope=row>417</th><td>DORN2011.DBC</td></tr>\n",
       "\t<tr><th scope=row>418</th><td>DORN2012.DBC</td></tr>\n",
       "\t<tr><th scope=row>419</th><td>DORN2013.dbc</td></tr>\n",
       "\t<tr><th scope=row>420</th><td>DORN2014.dbc</td></tr>\n",
       "\t<tr><th scope=row>421</th><td>DORN2015.dbc</td></tr>\n",
       "\t<tr><th scope=row>422</th><td>DORN2016.dbc</td></tr>\n",
       "</tbody>\n",
       "</table>\n"
      ],
      "text/latex": [
       "\\begin{tabular}{r|l}\n",
       "  & files\\\\\n",
       "\\hline\n",
       "\t402 & DORN1996.dbc\\\\\n",
       "\t403 & DORN1997.dbc\\\\\n",
       "\t404 & DORN1998.dbc\\\\\n",
       "\t405 & DORN1999.dbc\\\\\n",
       "\t406 & DORN2000.dbc\\\\\n",
       "\t407 & DORN2001.dbc\\\\\n",
       "\t408 & DORN2002.dbc\\\\\n",
       "\t409 & DORN2003.dbc\\\\\n",
       "\t410 & DORN2004.dbc\\\\\n",
       "\t411 & DORN2005.dbc\\\\\n",
       "\t412 & DORN2006.dbc\\\\\n",
       "\t413 & DORN2007.DBC\\\\\n",
       "\t414 & DORN2008.dbc\\\\\n",
       "\t415 & DORN2009.dbc\\\\\n",
       "\t416 & DORN2010.DBC\\\\\n",
       "\t417 & DORN2011.DBC\\\\\n",
       "\t418 & DORN2012.DBC\\\\\n",
       "\t419 & DORN2013.dbc\\\\\n",
       "\t420 & DORN2014.dbc\\\\\n",
       "\t421 & DORN2015.dbc\\\\\n",
       "\t422 & DORN2016.dbc\\\\\n",
       "\\end{tabular}\n"
      ],
      "text/markdown": [
       "\n",
       "| <!--/--> | files | \n",
       "|---|---|---|---|---|---|---|---|---|---|---|---|---|---|---|---|---|---|---|---|---|\n",
       "| 402 | DORN1996.dbc | \n",
       "| 403 | DORN1997.dbc | \n",
       "| 404 | DORN1998.dbc | \n",
       "| 405 | DORN1999.dbc | \n",
       "| 406 | DORN2000.dbc | \n",
       "| 407 | DORN2001.dbc | \n",
       "| 408 | DORN2002.dbc | \n",
       "| 409 | DORN2003.dbc | \n",
       "| 410 | DORN2004.dbc | \n",
       "| 411 | DORN2005.dbc | \n",
       "| 412 | DORN2006.dbc | \n",
       "| 413 | DORN2007.DBC | \n",
       "| 414 | DORN2008.dbc | \n",
       "| 415 | DORN2009.dbc | \n",
       "| 416 | DORN2010.DBC | \n",
       "| 417 | DORN2011.DBC | \n",
       "| 418 | DORN2012.DBC | \n",
       "| 419 | DORN2013.dbc | \n",
       "| 420 | DORN2014.dbc | \n",
       "| 421 | DORN2015.dbc | \n",
       "| 422 | DORN2016.dbc | \n",
       "\n",
       "\n"
      ],
      "text/plain": [
       "    files       \n",
       "402 DORN1996.dbc\n",
       "403 DORN1997.dbc\n",
       "404 DORN1998.dbc\n",
       "405 DORN1999.dbc\n",
       "406 DORN2000.dbc\n",
       "407 DORN2001.dbc\n",
       "408 DORN2002.dbc\n",
       "409 DORN2003.dbc\n",
       "410 DORN2004.dbc\n",
       "411 DORN2005.dbc\n",
       "412 DORN2006.dbc\n",
       "413 DORN2007.DBC\n",
       "414 DORN2008.dbc\n",
       "415 DORN2009.dbc\n",
       "416 DORN2010.DBC\n",
       "417 DORN2011.DBC\n",
       "418 DORN2012.DBC\n",
       "419 DORN2013.dbc\n",
       "420 DORN2014.dbc\n",
       "421 DORN2015.dbc\n",
       "422 DORN2016.dbc"
      ]
     },
     "metadata": {},
     "output_type": "display_data"
    }
   ],
   "source": [
    "dorn"
   ]
  },
  {
   "cell_type": "code",
   "execution_count": null,
   "metadata": {},
   "outputs": [],
   "source": []
  }
 ],
 "metadata": {
  "kernelspec": {
   "display_name": "R",
   "language": "R",
   "name": "ir"
  },
  "language_info": {
   "codemirror_mode": "r",
   "file_extension": ".r",
   "mimetype": "text/x-r-source",
   "name": "R",
   "pygments_lexer": "r",
   "version": "3.4.2"
  }
 },
 "nbformat": 4,
 "nbformat_minor": 2
}
