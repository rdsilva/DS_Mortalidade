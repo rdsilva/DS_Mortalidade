{
 "cells": [
  {
   "cell_type": "markdown",
   "metadata": {},
   "source": [
    "#### Testando o Purrr para mapear as mortalidades\n",
    "\n",
    "O objetivo é perceber se o pacote Purrr pode me ajudar para mapear as CIDs nas diversas colunas do DF e retorar apenas as que eu desejo.\n",
    "\n",
    "Caso contrário será necessário criar um algortimo próprio para este processo map/reduce."
   ]
  },
  {
   "cell_type": "code",
   "execution_count": 1,
   "metadata": {},
   "outputs": [],
   "source": [
    "library(purrr)"
   ]
  },
  {
   "cell_type": "code",
   "execution_count": 2,
   "metadata": {},
   "outputs": [],
   "source": [
    "mulheres <- read.csv2(\"mulheres_rn_96-15.csv\", header=T, sep=\";\")"
   ]
  },
  {
   "cell_type": "code",
   "execution_count": 3,
   "metadata": {},
   "outputs": [
    {
     "data": {
      "text/plain": [
       "    DTOBITO             IDADE            SEXO      RACACOR          ESTCIV     \n",
       " Min.   :    1996   Min.   :  0.0   Min.   :2   Min.   :1.000   Min.   :1.000  \n",
       " 1st Qu.: 8072001   1st Qu.:455.0   1st Qu.:2   1st Qu.:1.000   1st Qu.:1.000  \n",
       " Median :16021999   Median :473.0   Median :2   Median :1.000   Median :2.000  \n",
       " Mean   :15715269   Mean   :455.5   Mean   :2   Mean   :2.369   Mean   :2.163  \n",
       " 3rd Qu.:23092003   3rd Qu.:484.0   3rd Qu.:2   3rd Qu.:4.000   3rd Qu.:3.000  \n",
       " Max.   :31122015   Max.   :999.0   Max.   :2   Max.   :5.000   Max.   :9.000  \n",
       "                    NA's   :256                 NA's   :27737   NA's   :15799  \n",
       "      ESC          CODMUNRES          LOCOCOR        CODMUNOCOR     \n",
       " 1      :36713   Min.   : 240000   Min.   :1.000   Min.   : 110030  \n",
       " 2      :18786   1st Qu.: 240800   1st Qu.:1.000   1st Qu.: 240810  \n",
       " 9      :14287   Median : 241200   Median :1.000   Median : 241010  \n",
       " 3      :11213   Mean   :1195322   Mean   :1.825   Mean   :1196976  \n",
       " 4      : 5557   3rd Qu.:2408003   3rd Qu.:3.000   3rd Qu.:2408102  \n",
       " (Other): 7150   Max.   :2415008   Max.   :9.000   Max.   :5300108  \n",
       " NA's   :35593                     NA's   :163                      \n",
       "    GRAVIDEZ         CAUSABAS         LINHAA          LINHAB     \n",
       " Min.   :1.00     R98    :12739   *A419  :12685   *A419  : 6364  \n",
       " 1st Qu.:1.00     I219   : 9468   *R092  :11785   *J189  : 5502  \n",
       " Median :1.00     E149   : 6130   *R98X  : 8911   *I10X  : 4743  \n",
       " Mean   :1.28     I64    : 5134   *R688  : 8380   *I219  : 4268  \n",
       " 3rd Qu.:1.00     J189   : 4164   *J969  : 6939   *J180  : 2809  \n",
       " Max.   :9.00     R99    : 3367   (Other):62986   (Other):66125  \n",
       " NA's   :124069   (Other):88297   NA's   :17613   NA's   :39488  \n",
       "     LINHAC          LINHAD             LINHAII        CIRCOBITO     \n",
       " *I10X  : 5163   *I10X  :  2751   *I10X     : 2569   Min.   :1.00    \n",
       " *E149  : 2846   *E149  :  2552   *E149     : 2425   1st Qu.:1.00    \n",
       " *J189  : 2832   *I709  :  1072   *R54X     :  945   Median :1.00    \n",
       " *A419  : 1491   *J189  :   583   *I10X*E149:  600   Mean   :3.08    \n",
       " *I64X  : 1362   *R54X  :   511   *E46X     :  589   3rd Qu.:3.00    \n",
       " (Other):48027   (Other): 18713   (Other)   :22246   Max.   :9.00    \n",
       " NA's   :67578   NA's   :103117   NA's      :99925   NA's   :123953  \n",
       "    ACIDTRAB     \n",
       " Min.   :1.0     \n",
       " 1st Qu.:2.0     \n",
       " Median :2.0     \n",
       " Mean   :3.3     \n",
       " 3rd Qu.:2.0     \n",
       " Max.   :9.0     \n",
       " NA's   :128289  "
      ]
     },
     "metadata": {},
     "output_type": "display_data"
    }
   ],
   "source": [
    "summary(mulheres)"
   ]
  },
  {
   "cell_type": "code",
   "execution_count": null,
   "metadata": {},
   "outputs": [],
   "source": []
  }
 ],
 "metadata": {
  "kernelspec": {
   "display_name": "R",
   "language": "R",
   "name": "ir"
  },
  "language_info": {
   "codemirror_mode": "r",
   "file_extension": ".r",
   "mimetype": "text/x-r-source",
   "name": "R",
   "pygments_lexer": "r",
   "version": "3.4.2"
  }
 },
 "nbformat": 4,
 "nbformat_minor": 2
}
